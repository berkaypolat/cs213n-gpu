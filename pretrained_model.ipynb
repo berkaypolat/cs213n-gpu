{
 "cells": [
  {
   "cell_type": "code",
   "execution_count": 1,
   "metadata": {},
   "outputs": [],
   "source": [
    "import numpy as np\n",
    "import torch\n",
    "import torch.nn as nn\n",
    "import torch.backends.cudnn as cudnn\n",
    "import torchvision\n",
    "from torchvision import transforms, datasets\n",
    "import torch.optim as optim\n",
    "import torch.nn.functional as tfunc\n",
    "from torch.utils.data import Dataset\n",
    "from torch.utils.data.dataset import random_split\n",
    "from torch.utils.data import DataLoader\n",
    "from torch.autograd import Variable\n",
    "from torch.optim.lr_scheduler import ReduceLROnPlateau\n",
    "from PIL import Image\n",
    "import torch.nn.functional as func\n",
    "from util_datasets import GaussianNoise, UniformNoise\n",
    "import csv\n",
    "\n",
    "from sklearn.metrics.ranking import roc_auc_score\n",
    "import sklearn.metrics as metrics\n",
    "import random\n",
    "\n",
    "\n",
    "use_cuda = torch.cuda.is_available()\n",
    "torch.manual_seed(123)\n",
    "device = torch.device(\"cuda\" if use_cuda else \"cpu\")\n",
    "\n",
    "\n",
    "class_names = ['No Finding', 'Enlarged Cardiomediastinum', 'Cardiomegaly', 'Lung Opacity', \n",
    "               'Lung Lesion', 'Edema', 'Consolidation', 'Pneumonia', 'Atelectasis', 'Pneumothorax', \n",
    "               'Pleural Effusion', 'Pleural Other', 'Fracture', 'Support Devices']\n",
    "\n",
    "imgtransResize = (320, 320)\n",
    "imgtransCrop = 224"
   ]
  },
  {
   "cell_type": "code",
   "execution_count": 3,
   "metadata": {},
   "outputs": [],
   "source": [
    "#TRANSFORM DATA\n",
    "\n",
    "normalize = transforms.Normalize([0.485, 0.456, 0.406], [0.229, 0.224, 0.225])\n",
    "transformList = []\n",
    "#transformList.append(transforms.Resize(imgtransCrop))\n",
    "transformList.append(transforms.RandomResizedCrop(imgtransCrop))\n",
    "transformList.append(transforms.RandomHorizontalFlip())\n",
    "transformList.append(transforms.ToTensor())\n",
    "transformList.append(normalize)      \n",
    "transformSequence=transforms.Compose(transformList)"
   ]
  },
  {
   "cell_type": "code",
   "execution_count": 4,
   "metadata": {},
   "outputs": [],
   "source": [
    "chex_datasetValid = CheXpertData('datasets/chexpert-small/CheXpert-v1.0-small/valid.csv' ,transformSequence, preload = True, policy=\"ones\")\n",
    "chex_datasetTrain = CheXpertData('datasets/chexpert-small/CheXpert-v1.0-small/train.csv' ,transformSequence, policy=\"ones\")\n",
    "datasetTest, datasetTrain = random_split(chex_datasetTrain, [500, len(chex_datasetTrain) - 500])\n",
    "chex_dataset = torch.utils.data.ConcatDataset([chex_datasetValid, datasetTest])"
   ]
  },
  {
   "cell_type": "code",
   "execution_count": 7,
   "metadata": {},
   "outputs": [],
   "source": [
    "dataLoaderChex = DataLoader(dataset=chex_dataset, batch_size=64, shuffle=True,  num_workers=1, pin_memory=True)"
   ]
  },
  {
   "cell_type": "code",
   "execution_count": 8,
   "metadata": {},
   "outputs": [
    {
     "data": {
      "text/plain": [
       "734"
      ]
     },
     "execution_count": 8,
     "metadata": {},
     "output_type": "execute_result"
    }
   ],
   "source": [
    "len(dataLoaderChex.dataset)"
   ]
  },
  {
   "cell_type": "code",
   "execution_count": 9,
   "metadata": {},
   "outputs": [],
   "source": [
    "import matplotlib.pyplot as plt\n",
    "import numpy as np\n",
    "\n",
    "#functions to show an image\n",
    "# def imshow(img):\n",
    "#     npimg = img.numpy()\n",
    "#     plt.imshow(np.transpose(npimg, (1, 2, 0)))\n",
    "# imshow(torchvision.utils.make_grid(images))"
   ]
  },
  {
   "cell_type": "code",
   "execution_count": 10,
   "metadata": {},
   "outputs": [
    {
     "name": "stdout",
     "output_type": "stream",
     "text": [
      "734\n",
      "4872\n"
     ]
    }
   ],
   "source": [
    "nih_dataset = datasets.ImageFolder(root='datasets/nih-small/small', transform = transformSequence)\n",
    "nih_test, nih_train = random_split(nih_dataset, [734, len(nih_dataset) - 734])\n",
    "print(len(nih_test))\n",
    "print(len(nih_train))"
   ]
  },
  {
   "cell_type": "code",
   "execution_count": 11,
   "metadata": {},
   "outputs": [],
   "source": [
    "dataLoaderNIH = DataLoader(dataset=nih_test, batch_size=64, shuffle=False,  num_workers=1, pin_memory=True)"
   ]
  },
  {
   "cell_type": "markdown",
   "metadata": {},
   "source": [
    "# Create DenseNet121"
   ]
  },
  {
   "cell_type": "code",
   "execution_count": 15,
   "metadata": {},
   "outputs": [],
   "source": [
    "class DenseNet121(nn.Module):\n",
    "    \"\"\"Model modified.\n",
    "    The architecture of our model is the same as standard DenseNet121\n",
    "    except the classifier layer which has an additional sigmoid function.\n",
    "    \"\"\"\n",
    "    def __init__(self, out_size):\n",
    "        super(DenseNet121, self).__init__()\n",
    "        self.densenet121 = torchvision.models.densenet121(pretrained=True)\n",
    "        num_ftrs = self.densenet121.classifier.in_features\n",
    "        self.densenet121.classifier = nn.Sequential(\n",
    "            nn.Linear(num_ftrs, out_size),\n",
    "            nn.Sigmoid()\n",
    "        )\n",
    "\n",
    "    def forward(self, x):\n",
    "        x = self.densenet121(x)\n",
    "        return x"
   ]
  },
  {
   "cell_type": "code",
   "execution_count": 11,
   "metadata": {},
   "outputs": [],
   "source": [
    "def test(model, use_cuda, dataLoaderSet, class_names):\n",
    "    if use_cuda:\n",
    "            outGT = torch.FloatTensor().to(device)\n",
    "            outPRED = torch.FloatTensor().to(device)\n",
    "    else:\n",
    "        outGT = torch.FloatTensor()\n",
    "        outPRED = torch.FloatTensor()\n",
    "       \n",
    "    model.eval()\n",
    "        \n",
    "    with torch.no_grad():\n",
    "        for i, (data, target) in enumerate(dataLoaderSet):\n",
    "            target = torch.stack(target).float().transpose(0,1)\n",
    "            print(target.shape)\n",
    "            outGT = torch.cat((outGT, target), 0).to(device)\n",
    "\n",
    "            bs, c, h, w = data.size()\n",
    "            varInput = data.view(-1, c, h, w)\n",
    "\n",
    "            out = model(varInput)\n",
    "            outPRED = torch.cat((outPRED, out), 0)\n",
    "    aurocIndividual = computeAUROC(outGT, outPRED, len(class_names))\n",
    "    aurocMean = np.array(aurocIndividual).mean()\n",
    "\n",
    "    print ('AUROC mean ', aurocMean)\n",
    "\n",
    "    for i in range (0, len(aurocIndividual)):\n",
    "        print (class_names[i], ' ', aurocIndividual[i])\n",
    "\n",
    "    return outGT, outPRED"
   ]
  },
  {
   "cell_type": "code",
   "execution_count": 18,
   "metadata": {},
   "outputs": [],
   "source": [
    "num_classes = len(class_names)\n",
    "model = DenseNet121(num_classes).to(device)\n",
    "model = torch.nn.DataParallel(model).to(device)"
   ]
  },
  {
   "cell_type": "code",
   "execution_count": 19,
   "metadata": {},
   "outputs": [
    {
     "name": "stdout",
     "output_type": "stream",
     "text": [
      "model loaded from cheXpert_github/model_ones_3epoch_densenet.tar\n"
     ]
    }
   ],
   "source": [
    "checkpoint_path = 'cheXpert_github/model_ones_3epoch_densenet.tar'\n",
    "optimizer = optim.Adam (model.parameters(), lr=0.0001, betas=(0.9, 0.999), eps=1e-08, weight_decay=1e-5)\n",
    "load_checkpoint(checkpoint_path, model, optimizer, use_cuda)"
   ]
  },
  {
   "cell_type": "code",
   "execution_count": 12,
   "metadata": {},
   "outputs": [],
   "source": [
    "def computeAUROC (dataGT, dataPRED, classCount):\n",
    "        \n",
    "        outAUROC = []\n",
    "        \n",
    "        datanpGT = dataGT.cpu().numpy()\n",
    "        datanpPRED = dataPRED.cpu().numpy()\n",
    "        \n",
    "        for i in range(classCount):\n",
    "            try:\n",
    "                outAUROC.append(roc_auc_score(datanpGT[:, i], datanpPRED[:, i]))\n",
    "            except ValueError:\n",
    "                pass\n",
    "        return outAUROC"
   ]
  },
  {
   "cell_type": "code",
   "execution_count": 21,
   "metadata": {},
   "outputs": [
    {
     "name": "stdout",
     "output_type": "stream",
     "text": [
      "torch.Size([64, 14])\n",
      "torch.Size([64, 14])\n",
      "torch.Size([64, 14])\n",
      "torch.Size([42, 14])\n",
      "AUROC mean  0.7444331265061562\n",
      "No Finding   0.8754027926960257\n",
      "Enlarged Cardiomediastinum   0.46033027522935777\n",
      "Cardiomegaly   0.7810063784549965\n",
      "Lung Opacity   0.8647854203409758\n",
      "Lung Lesion   0.03433476394849788\n",
      "Edema   0.8838330393885949\n",
      "Consolidation   0.8641640283431329\n",
      "Pneumonia   0.7212389380530974\n",
      "Atelectasis   0.8082792207792208\n",
      "Pneumothorax   0.7394911504424779\n",
      "Pleural Effusion   0.8814013763517741\n",
      "Pleural Other   0.8712446351931331\n",
      "Fracture   0.892118625358746\n"
     ]
    }
   ],
   "source": [
    "outGT1, outPRED1 = test(model, use_cuda, dataLoaderChex, class_names)"
   ]
  },
  {
   "cell_type": "code",
   "execution_count": null,
   "metadata": {},
   "outputs": [],
   "source": [
    "##PLOT AUC RESULTS\n",
    "for i in range(len(class_names)):\n",
    "    fpr, tpr, threshold = metrics.roc_curve(outGT1.cpu()[:,i], outPRED1.cpu()[:,i])\n",
    "    roc_auc = metrics.auc(fpr, tpr)\n",
    "    f = plt.subplot(2, 7, i+1)\n",
    "    #fpr2, tpr2, threshold2 = metrics.roc_curve(outGT3.cpu()[:,i], outPRED3.cpu()[:,i])\n",
    "    #roc_auc2 = metrics.auc(fpr2, tpr2)\n",
    "    #fpr3, tpr3, threshold2 = metrics.roc_curve(outGT4.cpu()[:,i], outPRED4.cpu()[:,i])\n",
    "    #roc_auc3 = metrics.auc(fpr3, tpr3)\n",
    "\n",
    "\n",
    "    plt.title('ROC for: ' + class_names[i])\n",
    "    plt.plot(fpr, tpr, label = 'U-ones: AUC = %0.2f' % roc_auc)\n",
    "    #plt.plot(fpr2, tpr2, label = 'U-zeros: AUC = %0.2f' % roc_auc2)\n",
    "    #plt.plot(fpr3, tpr3, label = 'AUC = %0.2f' % roc_auc3)\n",
    "\n",
    "    plt.legend(loc = 'lower right')\n",
    "    plt.plot([0, 1], [0, 1],'r--')\n",
    "    plt.xlim([0, 1])\n",
    "    plt.ylim([0, 1])\n",
    "    plt.ylabel('True Positive Rate')\n",
    "    plt.xlabel('False Positive Rate')\n",
    "\n",
    "fig_size = plt.rcParams[\"figure.figsize\"]\n",
    "fig_size[0] = 30\n",
    "fig_size[1] = 10\n",
    "plt.rcParams[\"figure.figsize\"] = fig_size\n",
    "\n",
    "plt.savefig(\"ROC1345.png\", dpi=1000)\n",
    "plt.show()"
   ]
  },
  {
   "cell_type": "markdown",
   "metadata": {},
   "source": [
    "# EVALUATION AND TEST WITH BASELINE"
   ]
  },
  {
   "cell_type": "code",
   "execution_count": 14,
   "metadata": {},
   "outputs": [],
   "source": [
    "def evaluate_ood(data_loader, mode, model):\n",
    "    model.eval()\n",
    "    outPred = []\n",
    "    outGround = []\n",
    "    xent = nn.CrossEntropyLoss()\n",
    "    with torch.no_grad():\n",
    "        for images,labels in data_loader:\n",
    "            if type(labels) == list:\n",
    "                print(\"It is chestnet\")\n",
    "                labels = torch.stack(labels).float().transpose(0,1)\n",
    "            else:\n",
    "                print(\"It is nih dataset\")\n",
    "\n",
    "\n",
    "            bs, c, h, w = images.size()\n",
    "            varInput = images.view(-1, c, h, w)\n",
    "\n",
    "        # #       out = model(varInput)\n",
    "        #         images = Variable(images, requires_grad=True).to(device)\n",
    "        #         images.retain_grad()\n",
    "            \n",
    "            outGround.append(labels)\n",
    "            print(labels.shape)\n",
    "            if mode == 'baseline':\n",
    "                pred = model(varInput)\n",
    "                pred = torch.sigmoid(pred)\n",
    "                #pred = torch.max(pred.data, 1)[0]\n",
    "                pred = pred.cpu().numpy()\n",
    "                print(pred.shape)\n",
    "                outPred.append(pred)\n",
    "\n",
    "    outPred = np.concatenate(outPred)\n",
    "    outGround = np.concatenate(outGround)\n",
    "    return outPred, outGround\n",
    "\n"
   ]
  },
  {
   "cell_type": "code",
   "execution_count": 16,
   "metadata": {},
   "outputs": [],
   "source": [
    "def tpr76(ind_confidences, ood_confidences):\n",
    "    #calculate the falsepositive error when tpr is 75-76%\n",
    "    Y1 = ood_confidences\n",
    "    X1 = ind_confidences\n",
    "\n",
    "    start = np.min([np.min(X1), np.min(Y1)])\n",
    "    end = np.max([np.max(X1), np.max(Y1)])\n",
    "    gap = (end - start) / 100000\n",
    "\n",
    "    total = 1.0\n",
    "    fpr = 0.0\n",
    "    for delta in np.arange(start, end, gap):\n",
    "        tpr = np.sum(np.sum(X1 >= delta)) / np.float(len(X1))\n",
    "        error2 = np.sum(np.sum(Y1 > delta)) / np.float(len(Y1))\n",
    "        #if tpr <= 0.9505 and tpr >= 0.9495:\n",
    "        if tpr <= 0.7605 and tpr >= 0.7495:\n",
    "            fpr += error2\n",
    "            total += 1\n",
    "\n",
    "    fprBase = fpr / total\n",
    "\n",
    "    return fprBase\n",
    "\n",
    "\n",
    "def detection(ind_confidences, ood_confidences, n_iter=100000, return_data=False):\n",
    "    # calculate the minimum detection error\n",
    "    Y1 = ood_confidences\n",
    "    X1 = ind_confidences\n",
    "\n",
    "    start = np.min([np.min(X1), np.min(Y1)])\n",
    "    end = np.max([np.max(X1), np.max(Y1)])\n",
    "    gap = (end - start) / n_iter\n",
    "\n",
    "    best_error = 1.0\n",
    "    best_delta = None\n",
    "    all_thresholds = []\n",
    "    all_errors = []\n",
    "    for delta in np.arange(start, end, gap):\n",
    "        tpr = np.sum(np.sum(X1 < delta)) / np.float(len(X1))\n",
    "        error2 = np.sum(np.sum(Y1 > delta)) / np.float(len(Y1))\n",
    "        detection_error = (tpr + error2) / 2.0\n",
    "\n",
    "        if return_data:\n",
    "            all_thresholds.append(delta)\n",
    "            all_errors.append(detection_error)\n",
    "\n",
    "        if detection_error < best_error:\n",
    "            best_error = np.minimum(best_error, detection_error)\n",
    "            best_delta = delta\n",
    "\n",
    "    if return_data:\n",
    "        return best_error, best_delta, all_errors, all_thresholds\n",
    "    else:\n",
    "        return best_error, best_delta"
   ]
  },
  {
   "cell_type": "code",
   "execution_count": 17,
   "metadata": {},
   "outputs": [
    {
     "name": "stdout",
     "output_type": "stream",
     "text": [
      "It is chestnet\n",
      "torch.Size([64, 14])\n",
      "(64, 14)\n",
      "It is chestnet\n",
      "torch.Size([64, 14])\n",
      "(64, 14)\n",
      "It is chestnet\n",
      "torch.Size([64, 14])\n",
      "(64, 14)\n",
      "It is chestnet\n",
      "torch.Size([64, 14])\n",
      "(64, 14)\n",
      "It is chestnet\n",
      "torch.Size([64, 14])\n",
      "(64, 14)\n",
      "It is chestnet\n",
      "torch.Size([64, 14])\n",
      "(64, 14)\n",
      "It is chestnet\n",
      "torch.Size([64, 14])\n",
      "(64, 14)\n",
      "It is chestnet\n",
      "torch.Size([64, 14])\n",
      "(64, 14)\n",
      "It is chestnet\n",
      "torch.Size([64, 14])\n",
      "(64, 14)\n",
      "It is chestnet\n",
      "torch.Size([64, 14])\n",
      "(64, 14)\n",
      "It is chestnet\n",
      "torch.Size([64, 14])\n",
      "(64, 14)\n",
      "It is chestnet\n",
      "torch.Size([30, 14])\n",
      "(30, 14)\n",
      "It is nih dataset\n",
      "torch.Size([64])\n",
      "(64, 14)\n",
      "It is nih dataset\n",
      "torch.Size([64])\n",
      "(64, 14)\n",
      "It is nih dataset\n",
      "torch.Size([64])\n",
      "(64, 14)\n",
      "It is nih dataset\n",
      "torch.Size([64])\n",
      "(64, 14)\n",
      "It is nih dataset\n",
      "torch.Size([64])\n",
      "(64, 14)\n",
      "It is nih dataset\n",
      "torch.Size([64])\n",
      "(64, 14)\n",
      "It is nih dataset\n",
      "torch.Size([64])\n",
      "(64, 14)\n",
      "It is nih dataset\n",
      "torch.Size([64])\n",
      "(64, 14)\n",
      "It is nih dataset\n",
      "torch.Size([64])\n",
      "(64, 14)\n",
      "It is nih dataset\n",
      "torch.Size([64])\n",
      "(64, 14)\n",
      "It is nih dataset\n",
      "torch.Size([64])\n",
      "(64, 14)\n",
      "It is nih dataset\n",
      "torch.Size([30])\n",
      "(30, 14)\n"
     ]
    }
   ],
   "source": [
    "ind_scores, ind_gt = evaluate_ood(dataLoaderChex, 'baseline',model)\n",
    "ood_scores, _ = evaluate_ood(dataLoaderNIH, 'baseline',model)"
   ]
  },
  {
   "cell_type": "code",
   "execution_count": 18,
   "metadata": {},
   "outputs": [
    {
     "name": "stdout",
     "output_type": "stream",
     "text": [
      "No Finding   0.8697622660596864\n",
      "Enlarged Cardiomediastinum   0.5397877109704642\n",
      "Cardiomegaly   0.7996790195506274\n",
      "Lung Opacity   0.7286432160804021\n",
      "Lung Lesion   0.6176056338028169\n",
      "Edema   0.8431210440224735\n",
      "Consolidation   0.6838618745595489\n",
      "Pneumonia   0.7446560196560197\n",
      "Atelectasis   0.6988902061516169\n",
      "Pneumothorax   0.799966881934095\n",
      "Pleural Effusion   0.8536635944700459\n",
      "Pleural Other   0.8334254143646409\n",
      "Fracture   0.6571847660956571\n",
      "Support Devices   0.8606572602515807\n"
     ]
    }
   ],
   "source": [
    "#this cell is to double check auroc values\n",
    "for i in range (0, len(class_names)):\n",
    "    try:\n",
    "        auc = metrics.roc_auc_score(ind_gt[:,i],ind_scores[:,i])\n",
    "        print (class_names[i], ' ', auc)\n",
    "    except ValueError:\n",
    "        pass"
   ]
  },
  {
   "cell_type": "code",
   "execution_count": 19,
   "metadata": {},
   "outputs": [],
   "source": [
    "ood_gt = np.zeros((ood_scores.shape[0], ood_scores.shape[1]))\n",
    "labels = np.concatenate([ind_gt, ood_gt])\n",
    "scores = np.concatenate([ind_scores, ood_scores])"
   ]
  },
  {
   "cell_type": "code",
   "execution_count": 21,
   "metadata": {},
   "outputs": [
    {
     "name": "stdout",
     "output_type": "stream",
     "text": [
      "75\n",
      "158\n",
      "138\n",
      "398\n",
      "24\n",
      "218\n",
      "129\n",
      "74\n",
      "252\n",
      "63\n",
      "300\n",
      "10\n",
      "27\n",
      "357\n"
     ]
    }
   ],
   "source": [
    "numClasses = 14\n",
    "stat = {\n",
    "    'fpr_at_76_tpr' : 0,\n",
    "    'detection_error' : 0,\n",
    "    'best_delta' : 0,\n",
    "}\n",
    "st_cnt = 0\n",
    "\n",
    "metric = {\n",
    "    'auroc' : 0,\n",
    "    'aupr_in' : 0,\n",
    "    'aupr_out' : 0,\n",
    "}\n",
    "met_cnt = 0\n",
    "\n",
    "for i in range(numClasses):\n",
    "    mask = ind_gt[:,i] == 1\n",
    "    ind = ind_scores[:,i][mask]\n",
    "    ood = ood_scores[:,i][mask]\n",
    "    print(ind.size)\n",
    "    if ind.size != 0:\n",
    "        stat['fpr_at_76_tpr'] += tpr76(ind, ood)\n",
    "        detection_error, best_delta = detection(ind, ood)\n",
    "        stat['detection_error'] += detection_error\n",
    "        stat['best_delta'] += best_delta\n",
    "        st_cnt += 1\n",
    "    try:\n",
    "        metric['auroc'] += metrics.roc_auc_score(labels[:,i], scores[:,i])\n",
    "        metric['aupr_in'] += metrics.average_precision_score(labels[:,i], scores[:,i])\n",
    "        metric['aupr_out'] += metrics.average_precision_score(-1 * labels[:,i] + 1, 1 - scores[:,i])\n",
    "        met_cnt += 1\n",
    "    except ValueError:\n",
    "        pass\n",
    "\n",
    "stat = {k: v / st_cnt for k, v in stat.items()}\n",
    "metric = {k: v / met_cnt for k, v in metric.items()}"
   ]
  },
  {
   "cell_type": "code",
   "execution_count": 22,
   "metadata": {},
   "outputs": [
    {
     "name": "stdout",
     "output_type": "stream",
     "text": [
      "\n",
      "Method: baseline\n",
      "TPR75 (lower is better):  0.267505018526628\n",
      "Detection error (lower is better):  0.2584571825092875\n",
      "Best threshold: 0.16860760623429893\n",
      "AUROC (higher is better):  0.7659836828994325\n",
      "AUPR_IN (higher is better):  0.2892957011757141\n",
      "AUPR_OUT (higher is better):  0.9665890712237438\n"
     ]
    },
    {
     "data": {
      "image/png": "[encoded data removed]",
      "text/plain": [
       "<Figure size 432x288 with 1 Axes>"
      ]
     },
     "metadata": {},
     "output_type": "display_data"
    },
    {
     "data": {
      "image/png": "[encoded data removed]",
      "text/plain": [
       "<Figure size 432x288 with 1 Axes>"
      ]
     },
     "metadata": {},
     "output_type": "display_data"
    },
    {
     "data": {
      "image/png": "[encoded data removed]",
      "text/plain": [
       "<Figure size 432x288 with 1 Axes>"
      ]
     },
     "metadata": {},
     "output_type": "display_data"
    },
    {
     "data": {
      "image/png": "[encoded data removed]",
      "text/plain": [
       "<Figure size 432x288 with 1 Axes>"
      ]
     },
     "metadata": {},
     "output_type": "display_data"
    },
    {
     "data": {
      "image/png": "[encoded data removed]",
      "text/plain": [
       "<Figure size 432x288 with 1 Axes>"
      ]
     },
     "metadata": {},
     "output_type": "display_data"
    },
    {
     "data": {
      "image/png": "[encoded data removed]",
      "text/plain": [
       "<Figure size 432x288 with 1 Axes>"
      ]
     },
     "metadata": {},
     "output_type": "display_data"
    },
    {
     "data": {
      "image/png": "[encoded data removed]",
      "text/plain": [
       "<Figure size 432x288 with 1 Axes>"
      ]
     },
     "metadata": {},
     "output_type": "display_data"
    },
    {
     "data": {
      "image/png": "[encoded data removed]",
      "text/plain": [
       "<Figure size 432x288 with 1 Axes>"
      ]
     },
     "metadata": {},
     "output_type": "display_data"
    },
    {
     "data": {
      "image/png": "[encoded data removed]",
      "text/plain": [
       "<Figure size 432x288 with 1 Axes>"
      ]
     },
     "metadata": {},
     "output_type": "display_data"
    },
    {
     "data": {
      "image/png": "[encoded data removed]",
      "text/plain": [
       "<Figure size 432x288 with 1 Axes>"
      ]
     },
     "metadata": {},
     "output_type": "display_data"
    },
    {
     "data": {
      "image/png": "[encoded data removed]",
      "text/plain": [
       "<Figure size 432x288 with 1 Axes>"
      ]
     },
     "metadata": {},
     "output_type": "display_data"
    },
    {
     "data": {
      "image/png": "[encoded data removed]",
      "text/plain": [
       "<Figure size 432x288 with 1 Axes>"
      ]
     },
     "metadata": {},
     "output_type": "display_data"
    },
    {
     "data": {
      "image/png": "[encoded data removed]",
      "text/plain": [
       "<Figure size 432x288 with 1 Axes>"
      ]
     },
     "metadata": {},
     "output_type": "display_data"
    },
    {
     "data": {
      "image/png": "[encoded data removed]",
      "text/plain": [
       "<Figure size 432x288 with 1 Axes>"
      ]
     },
     "metadata": {},
     "output_type": "display_data"
    },
    {
     "data": {
      "image/png": "[encoded data removed]",
      "text/plain": [
       "<Figure size 432x288 with 1 Axes>"
      ]
     },
     "metadata": {},
     "output_type": "display_data"
    }
   ],
   "source": [
    "import matplotlib.pyplot as plt\n",
    "import seaborn as sns\n",
    "print(\"\")\n",
    "print(\"Method: baseline\")\n",
    "print(\"TPR75 (lower is better): \", stat['fpr_at_76_tpr'])\n",
    "print(\"Detection error (lower is better): \", stat['detection_error'])\n",
    "print(\"Best threshold:\", stat['best_delta'])\n",
    "print(\"AUROC (higher is better): \", metric['auroc'])\n",
    "print(\"AUPR_IN (higher is better): \", metric['aupr_in'])\n",
    "print(\"AUPR_OUT (higher is better): \", metric['aupr_out'])\n",
    "total_ind_scores = []\n",
    "total_ood_scores = []\n",
    "for i in range(14):\n",
    "    #mask = ind_scores[:,i] > 0.5\n",
    "    mask = ind_gt[:,i] == 1\n",
    "    ind = ind_scores[:,i][mask]\n",
    "    ood = ood_scores[:,i][mask]\n",
    "    total_ind_scores.append(ind)\n",
    "    total_ood_scores.append(ood)\n",
    "    all_scores = np.concatenate([ind, ood])\n",
    "    if all_scores.size != 0:\n",
    "        ranges = (np.min(all_scores), np.max(all_scores))\n",
    "        plt.figure()\n",
    "        sns.distplot(ind.ravel(), hist_kws={'range': ranges}, kde=False, bins=50, norm_hist=True, label='In-distribution')\n",
    "        sns.distplot(ood.ravel(), hist_kws={'range': ranges}, kde=False, bins=50, norm_hist=True, label='Out-of-distribution')\n",
    "        plt.xlabel('Confidence for ' + class_names[i])\n",
    "        plt.ylabel('Density')\n",
    "        plt.legend()\n",
    "        plt.show()\n",
    "        \n",
    "total_ind_scores = np.concatenate(total_ind_scores)\n",
    "total_ood_scores = np.concatenate(total_ood_scores)\n",
    "all_scores = np.concatenate([total_ind_scores, total_ood_scores])\n",
    "ranges = (np.min(all_scores), np.max(all_scores))\n",
    "sns.distplot(total_ind_scores.ravel(), hist_kws={'range': ranges}, kde=False, bins=50, norm_hist=True, label='In-distribution')\n",
    "sns.distplot(total_ood_scores.ravel(), hist_kws={'range': ranges}, kde=False, bins=50, norm_hist=True, label='Out-of-distribution')\n",
    "plt.xlabel('Total Confidence Distribution')\n",
    "plt.ylabel('Density')\n",
    "plt.legend()\n",
    "plt.show()"
   ]
  },
  {
   "cell_type": "code",
   "execution_count": null,
   "metadata": {},
   "outputs": [],
   "source": []
  }
 ],
 "metadata": {
  "kernelspec": {
   "display_name": "Python 3",
   "language": "python",
   "name": "python3"
  },
  "language_info": {
   "codemirror_mode": {
    "name": "ipython",
    "version": 3
   },
   "file_extension": ".py",
   "mimetype": "text/x-python",
   "name": "python",
   "nbconvert_exporter": "python",
   "pygments_lexer": "ipython3",
   "version": "3.7.1"
  }
 },
 "nbformat": 4,
 "nbformat_minor": 2
}
